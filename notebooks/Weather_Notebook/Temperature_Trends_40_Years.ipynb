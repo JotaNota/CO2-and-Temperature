{
 "cells": [
  {
   "cell_type": "code",
   "execution_count": 11,
   "id": "406867fc-a828-4aaf-9fac-b3276bd56e91",
   "metadata": {},
   "outputs": [],
   "source": [
    "import pandas as pd "
   ]
  },
  {
   "cell_type": "code",
   "execution_count": 13,
   "id": "362e1a3b-8f50-4502-8eb8-debb53dff803",
   "metadata": {},
   "outputs": [],
   "source": [
    "file_path = 'https://berkeley-earth-temperature.s3.us-west-1.amazonaws.com/Global/Land_and_Ocean_complete.txt'\n",
    "df = pd.read_csv(file_path, delimiter=r'\\s+', comment='%', header=None, skiprows=41)\n"
   ]
  },
  {
   "cell_type": "code",
   "execution_count": 15,
   "id": "985898b1-1f51-4b94-81a3-356d62c8c06b",
   "metadata": {},
   "outputs": [
    {
     "name": "stdout",
     "output_type": "stream",
     "text": [
      "Archivo descargado y guardado en 'C:\\Users\\JUAN DIAZ\\Desktop\\Projects\\DataNoob\\data\\Weather_data\\Land_and_Ocean_complete.txt'\n"
     ]
    }
   ],
   "source": [
    "import requests\n",
    "import os\n",
    "\n",
    "# URL del archivo\n",
    "url = 'https://berkeley-earth-temperature.s3.us-west-1.amazonaws.com/Global/Land_and_Ocean_complete.txt'\n",
    "\n",
    "# Ruta de destino (ajustada a la ruta proporcionada)\n",
    "local_path = r'C:\\Users\\JUAN DIAZ\\Desktop\\Projects\\DataNoob\\data\\Weather_data\\Land_and_Ocean_complete.txt'\n",
    "\n",
    "\n",
    "# Descargar el archivo\n",
    "response = requests.get(url)\n",
    "with open(local_path, 'wb') as file:\n",
    "    file.write(response.content)\n",
    "\n",
    "print(f\"Archivo descargado y guardado en '{local_path}'\")\n",
    "\n",
    "\n"
   ]
  },
  {
   "cell_type": "code",
   "execution_count": 17,
   "id": "c8e298ff-74a7-475a-b293-9155813a5f22",
   "metadata": {},
   "outputs": [
    {
     "data": {
      "text/html": [
       "<div>\n",
       "<style scoped>\n",
       "    .dataframe tbody tr th:only-of-type {\n",
       "        vertical-align: middle;\n",
       "    }\n",
       "\n",
       "    .dataframe tbody tr th {\n",
       "        vertical-align: top;\n",
       "    }\n",
       "\n",
       "    .dataframe thead th {\n",
       "        text-align: right;\n",
       "    }\n",
       "</style>\n",
       "<table border=\"1\" class=\"dataframe\">\n",
       "  <thead>\n",
       "    <tr style=\"text-align: right;\">\n",
       "      <th></th>\n",
       "      <th>0</th>\n",
       "      <th>1</th>\n",
       "      <th>2</th>\n",
       "      <th>3</th>\n",
       "      <th>4</th>\n",
       "      <th>5</th>\n",
       "      <th>6</th>\n",
       "      <th>7</th>\n",
       "      <th>8</th>\n",
       "      <th>9</th>\n",
       "      <th>10</th>\n",
       "      <th>11</th>\n",
       "    </tr>\n",
       "  </thead>\n",
       "  <tbody>\n",
       "    <tr>\n",
       "      <th>0</th>\n",
       "      <td>1850</td>\n",
       "      <td>1</td>\n",
       "      <td>-0.756</td>\n",
       "      <td>0.423</td>\n",
       "      <td>NaN</td>\n",
       "      <td>NaN</td>\n",
       "      <td>NaN</td>\n",
       "      <td>NaN</td>\n",
       "      <td>NaN</td>\n",
       "      <td>NaN</td>\n",
       "      <td>NaN</td>\n",
       "      <td>NaN</td>\n",
       "    </tr>\n",
       "    <tr>\n",
       "      <th>1</th>\n",
       "      <td>1850</td>\n",
       "      <td>2</td>\n",
       "      <td>-0.213</td>\n",
       "      <td>0.514</td>\n",
       "      <td>NaN</td>\n",
       "      <td>NaN</td>\n",
       "      <td>NaN</td>\n",
       "      <td>NaN</td>\n",
       "      <td>NaN</td>\n",
       "      <td>NaN</td>\n",
       "      <td>NaN</td>\n",
       "      <td>NaN</td>\n",
       "    </tr>\n",
       "    <tr>\n",
       "      <th>2</th>\n",
       "      <td>1850</td>\n",
       "      <td>3</td>\n",
       "      <td>-0.354</td>\n",
       "      <td>0.354</td>\n",
       "      <td>NaN</td>\n",
       "      <td>NaN</td>\n",
       "      <td>NaN</td>\n",
       "      <td>NaN</td>\n",
       "      <td>NaN</td>\n",
       "      <td>NaN</td>\n",
       "      <td>NaN</td>\n",
       "      <td>NaN</td>\n",
       "    </tr>\n",
       "    <tr>\n",
       "      <th>3</th>\n",
       "      <td>1850</td>\n",
       "      <td>4</td>\n",
       "      <td>-0.584</td>\n",
       "      <td>0.293</td>\n",
       "      <td>NaN</td>\n",
       "      <td>NaN</td>\n",
       "      <td>NaN</td>\n",
       "      <td>NaN</td>\n",
       "      <td>NaN</td>\n",
       "      <td>NaN</td>\n",
       "      <td>NaN</td>\n",
       "      <td>NaN</td>\n",
       "    </tr>\n",
       "    <tr>\n",
       "      <th>4</th>\n",
       "      <td>1850</td>\n",
       "      <td>5</td>\n",
       "      <td>-0.626</td>\n",
       "      <td>0.239</td>\n",
       "      <td>NaN</td>\n",
       "      <td>NaN</td>\n",
       "      <td>NaN</td>\n",
       "      <td>NaN</td>\n",
       "      <td>NaN</td>\n",
       "      <td>NaN</td>\n",
       "      <td>NaN</td>\n",
       "      <td>NaN</td>\n",
       "    </tr>\n",
       "  </tbody>\n",
       "</table>\n",
       "</div>"
      ],
      "text/plain": [
       "     0   1      2      3   4   5   6   7   8   9   10  11\n",
       "0  1850   1 -0.756  0.423 NaN NaN NaN NaN NaN NaN NaN NaN\n",
       "1  1850   2 -0.213  0.514 NaN NaN NaN NaN NaN NaN NaN NaN\n",
       "2  1850   3 -0.354  0.354 NaN NaN NaN NaN NaN NaN NaN NaN\n",
       "3  1850   4 -0.584  0.293 NaN NaN NaN NaN NaN NaN NaN NaN\n",
       "4  1850   5 -0.626  0.239 NaN NaN NaN NaN NaN NaN NaN NaN"
      ]
     },
     "execution_count": 17,
     "metadata": {},
     "output_type": "execute_result"
    }
   ],
   "source": [
    "df.head()"
   ]
  },
  {
   "cell_type": "code",
   "execution_count": 113,
   "id": "d8c8e869-18cd-468f-9246-2ddac2d602c4",
   "metadata": {},
   "outputs": [],
   "source": [
    "#I need the headers\n",
    "\n",
    "import requests\n",
    "url = 'https://berkeley-earth-temperature.s3.us-west-1.amazonaws.com/Global/Land_and_Ocean_complete.txt'\n",
    "\n",
    "# Send an HTTP request to get the file content\n",
    "response = requests.get(url)\n",
    "\n",
    "# Check if the request was successful\n",
    "if response.status_code == 200:\n",
    "    # Split the content into lines\n",
    "    lines = response.text.splitlines()\n",
    "    \n",
    "    # Print all lines\n",
    "    for line in lines:\n",
    "        pass\n",
    "else:\n",
    "    print(f\"Failed to retrieve the file. Status code: {response.status_code}\")\n"
   ]
  },
  {
   "cell_type": "code",
   "execution_count": 115,
   "id": "f449a2ef-b573-4a8c-9e10-4233a83ee55d",
   "metadata": {},
   "outputs": [
    {
     "name": "stdout",
     "output_type": "stream",
     "text": [
      "1: % This file contains a detailed summary of the changes in Earth's global average\n",
      "2: % surface temperature estimated by combining the Berkeley Earth land-surface\n",
      "3: % temperature field with a reinterpolated version of the HadSST ocean temperature \n",
      "4: % field.  \n",
      "5: % The current citation for this dataset is: \n",
      "Failed to retrieve the file. Status code: 200\n"
     ]
    }
   ],
   "source": [
    "# Print lines with row numbers\n",
    "for index, line in enumerate(lines[:5], start=1):\n",
    "        print(f\"{index}: {line}\")\n",
    "else:\n",
    "    print(f\"Failed to retrieve the file. Status code: {response.status_code}\")"
   ]
  },
  {
   "cell_type": "code",
   "execution_count": 55,
   "id": "9c8dd9df-42b4-4e4e-aada-a2e28b370de3",
   "metadata": {},
   "outputs": [
    {
     "name": "stdout",
     "output_type": "stream",
     "text": [
      "Row 84: %                  Monthly          Annual          Five-year        Ten-year        Twenty-year\n",
      "Row 85: % Year, Month,  Anomaly, Unc.,   Anomaly, Unc.,   Anomaly, Unc.,   Anomaly, Unc.,   Anomaly, Unc.\n"
     ]
    }
   ],
   "source": [
    "# Extract rows 84 and 85\n",
    "row_84 = lines[83]\n",
    "row_85 = lines[84]\n",
    "\n",
    "# Print\n",
    "print(f\"Row 84: {row_84}\")\n",
    "print(f\"Row 85: {row_85}\")"
   ]
  },
  {
   "cell_type": "code",
   "execution_count": 75,
   "id": "6bd093a1-2506-44d7-897f-0ae798899177",
   "metadata": {},
   "outputs": [
    {
     "name": "stdout",
     "output_type": "stream",
     "text": [
      "Headers: ['Year', 'Month', 'Anomaly', 'Unc', 'Anomaly', 'Unc', 'Anomaly', 'Unc', 'Anomaly', 'Unc', 'Anomaly', 'Unc', 'Monthly', 'Annual', 'Five-year', 'Ten-year', 'Twenty-year']\n"
     ]
    }
   ],
   "source": [
    "# Clean both rows (remove '%' and strip extra spaces)\n",
    "row_84_clean = row_84.replace('%', '').strip()\n",
    "row_85_clean = row_85.replace('%', '').strip()\n",
    "\n",
    "# Combine the cleaned row 84 and row 85 into a list of column names\n",
    "combined_columns = (row_85_clean + ' ' + row_84_clean).split()\n",
    "\n",
    "# Clean the column names further (remove commas and periods)\n",
    "headers = [col.replace(',', '').replace('.', '') for col in combined_columns]\n",
    "\n",
    "# Print the headers for debugging purposes\n",
    "print(\"Headers:\", headers)\n",
    "\n"
   ]
  },
  {
   "cell_type": "code",
   "execution_count": 77,
   "id": "eddbc11b-597a-470c-b31d-b0398653411a",
   "metadata": {},
   "outputs": [
    {
     "ename": "ValueError",
     "evalue": "Length mismatch: Expected axis has 12 elements, new values have 17 elements",
     "output_type": "error",
     "traceback": [
      "\u001b[1;31m---------------------------------------------------------------------------\u001b[0m",
      "\u001b[1;31mValueError\u001b[0m                                Traceback (most recent call last)",
      "Cell \u001b[1;32mIn[77], line 2\u001b[0m\n\u001b[0;32m      1\u001b[0m \u001b[38;5;66;03m# Step 3: Attach the cleaned headers (column names) to the DataFrame\u001b[39;00m\n\u001b[1;32m----> 2\u001b[0m df\u001b[38;5;241m.\u001b[39mcolumns \u001b[38;5;241m=\u001b[39m headers\n",
      "File \u001b[1;32m~\\anaconda3\\Lib\\site-packages\\pandas\\core\\generic.py:6313\u001b[0m, in \u001b[0;36mNDFrame.__setattr__\u001b[1;34m(self, name, value)\u001b[0m\n\u001b[0;32m   6311\u001b[0m \u001b[38;5;28;01mtry\u001b[39;00m:\n\u001b[0;32m   6312\u001b[0m     \u001b[38;5;28mobject\u001b[39m\u001b[38;5;241m.\u001b[39m\u001b[38;5;21m__getattribute__\u001b[39m(\u001b[38;5;28mself\u001b[39m, name)\n\u001b[1;32m-> 6313\u001b[0m     \u001b[38;5;28;01mreturn\u001b[39;00m \u001b[38;5;28mobject\u001b[39m\u001b[38;5;241m.\u001b[39m\u001b[38;5;21m__setattr__\u001b[39m(\u001b[38;5;28mself\u001b[39m, name, value)\n\u001b[0;32m   6314\u001b[0m \u001b[38;5;28;01mexcept\u001b[39;00m \u001b[38;5;167;01mAttributeError\u001b[39;00m:\n\u001b[0;32m   6315\u001b[0m     \u001b[38;5;28;01mpass\u001b[39;00m\n",
      "File \u001b[1;32mproperties.pyx:69\u001b[0m, in \u001b[0;36mpandas._libs.properties.AxisProperty.__set__\u001b[1;34m()\u001b[0m\n",
      "File \u001b[1;32m~\\anaconda3\\Lib\\site-packages\\pandas\\core\\generic.py:814\u001b[0m, in \u001b[0;36mNDFrame._set_axis\u001b[1;34m(self, axis, labels)\u001b[0m\n\u001b[0;32m    809\u001b[0m \u001b[38;5;250m\u001b[39m\u001b[38;5;124;03m\"\"\"\u001b[39;00m\n\u001b[0;32m    810\u001b[0m \u001b[38;5;124;03mThis is called from the cython code when we set the `index` attribute\u001b[39;00m\n\u001b[0;32m    811\u001b[0m \u001b[38;5;124;03mdirectly, e.g. `series.index = [1, 2, 3]`.\u001b[39;00m\n\u001b[0;32m    812\u001b[0m \u001b[38;5;124;03m\"\"\"\u001b[39;00m\n\u001b[0;32m    813\u001b[0m labels \u001b[38;5;241m=\u001b[39m ensure_index(labels)\n\u001b[1;32m--> 814\u001b[0m \u001b[38;5;28mself\u001b[39m\u001b[38;5;241m.\u001b[39m_mgr\u001b[38;5;241m.\u001b[39mset_axis(axis, labels)\n\u001b[0;32m    815\u001b[0m \u001b[38;5;28mself\u001b[39m\u001b[38;5;241m.\u001b[39m_clear_item_cache()\n",
      "File \u001b[1;32m~\\anaconda3\\Lib\\site-packages\\pandas\\core\\internals\\managers.py:238\u001b[0m, in \u001b[0;36mBaseBlockManager.set_axis\u001b[1;34m(self, axis, new_labels)\u001b[0m\n\u001b[0;32m    236\u001b[0m \u001b[38;5;28;01mdef\u001b[39;00m \u001b[38;5;21mset_axis\u001b[39m(\u001b[38;5;28mself\u001b[39m, axis: AxisInt, new_labels: Index) \u001b[38;5;241m-\u001b[39m\u001b[38;5;241m>\u001b[39m \u001b[38;5;28;01mNone\u001b[39;00m:\n\u001b[0;32m    237\u001b[0m     \u001b[38;5;66;03m# Caller is responsible for ensuring we have an Index object.\u001b[39;00m\n\u001b[1;32m--> 238\u001b[0m     \u001b[38;5;28mself\u001b[39m\u001b[38;5;241m.\u001b[39m_validate_set_axis(axis, new_labels)\n\u001b[0;32m    239\u001b[0m     \u001b[38;5;28mself\u001b[39m\u001b[38;5;241m.\u001b[39maxes[axis] \u001b[38;5;241m=\u001b[39m new_labels\n",
      "File \u001b[1;32m~\\anaconda3\\Lib\\site-packages\\pandas\\core\\internals\\base.py:98\u001b[0m, in \u001b[0;36mDataManager._validate_set_axis\u001b[1;34m(self, axis, new_labels)\u001b[0m\n\u001b[0;32m     95\u001b[0m     \u001b[38;5;28;01mpass\u001b[39;00m\n\u001b[0;32m     97\u001b[0m \u001b[38;5;28;01melif\u001b[39;00m new_len \u001b[38;5;241m!=\u001b[39m old_len:\n\u001b[1;32m---> 98\u001b[0m     \u001b[38;5;28;01mraise\u001b[39;00m \u001b[38;5;167;01mValueError\u001b[39;00m(\n\u001b[0;32m     99\u001b[0m         \u001b[38;5;124mf\u001b[39m\u001b[38;5;124m\"\u001b[39m\u001b[38;5;124mLength mismatch: Expected axis has \u001b[39m\u001b[38;5;132;01m{\u001b[39;00mold_len\u001b[38;5;132;01m}\u001b[39;00m\u001b[38;5;124m elements, new \u001b[39m\u001b[38;5;124m\"\u001b[39m\n\u001b[0;32m    100\u001b[0m         \u001b[38;5;124mf\u001b[39m\u001b[38;5;124m\"\u001b[39m\u001b[38;5;124mvalues have \u001b[39m\u001b[38;5;132;01m{\u001b[39;00mnew_len\u001b[38;5;132;01m}\u001b[39;00m\u001b[38;5;124m elements\u001b[39m\u001b[38;5;124m\"\u001b[39m\n\u001b[0;32m    101\u001b[0m     )\n",
      "\u001b[1;31mValueError\u001b[0m: Length mismatch: Expected axis has 12 elements, new values have 17 elements"
     ]
    }
   ],
   "source": [
    "# Step 3: Attach the cleaned headers (column names) to the DataFrame\n",
    "df.columns = headers"
   ]
  },
  {
   "cell_type": "code",
   "execution_count": 79,
   "id": "a8eea9e8-ab73-4ed8-a138-c88c600891ea",
   "metadata": {},
   "outputs": [
    {
     "name": "stdout",
     "output_type": "stream",
     "text": [
      "Index: 0, Header: Year\n",
      "Index: 1, Header: Month\n",
      "Index: 2, Header: Monthly Anomaly\n",
      "Index: 3, Header: Monthly Unc\n",
      "Index: 4, Header: Annual Anomaly\n",
      "Index: 5, Header: Annual Unc\n",
      "Index: 6, Header: Five-year Anomaly\n",
      "Index: 7, Header: Five-year Unc\n",
      "Index: 8, Header: Ten-year Anomaly\n",
      "Index: 9, Header: Ten-year Unc\n",
      "Index: 10, Header: Twenty-year Anomaly\n",
      "Index: 11, Header: Twenty-year Unc\n"
     ]
    }
   ],
   "source": [
    "# Create a new list for the organized headers\n",
    "organized_headers = [\n",
    "    headers[0],          # 'Year'\n",
    "    headers[1],          # 'Month'\n",
    "    f\"{headers[12]} {headers[2]}\",    # 'Monthly Anomaly'\n",
    "    f\"{headers[12]} {headers[3]}\",    # 'Monthly Unc'\n",
    "    f\"{headers[13]} {headers[4]}\",    # 'Annual Anomaly'\n",
    "    f\"{headers[13]} {headers[5]}\",    # 'Annual Unc'\n",
    "    f\"{headers[14]} {headers[6]}\",    # 'Five-year Anomaly'\n",
    "    f\"{headers[14]} {headers[7]}\",    # 'Five-year Unc'\n",
    "    f\"{headers[15]} {headers[8]}\",    # 'Ten-year Anomaly'\n",
    "    f\"{headers[15]} {headers[9]}\",    # 'Ten-year Unc'\n",
    "    f\"{headers[16]} {headers[10]}\",   # 'Twenty-year Anomaly'\n",
    "    f\"{headers[16]} {headers[11]}\"    # 'Twenty-year Unc'\n",
    "]\n",
    "\n",
    "# Print each organized header with its index\n",
    "for index, header in enumerate(organized_headers):\n",
    "    print(f\"Index: {index}, Header: {header}\")\n"
   ]
  },
  {
   "cell_type": "code",
   "execution_count": 81,
   "id": "81c37b47-448a-4cf2-8670-9711550e5a7d",
   "metadata": {},
   "outputs": [
    {
     "name": "stdout",
     "output_type": "stream",
     "text": [
      "Number of columns in the dataset: 12\n",
      "Number of headers: 12\n"
     ]
    }
   ],
   "source": [
    "print(f\"Number of columns in the dataset: {df.shape[1]}\")\n",
    "print(f\"Number of headers: {len(organized_headers)}\")"
   ]
  },
  {
   "cell_type": "code",
   "execution_count": 83,
   "id": "affabb27-9a09-4162-948f-c45ebaf74df6",
   "metadata": {},
   "outputs": [
    {
     "name": "stdout",
     "output_type": "stream",
     "text": [
      "['Year', 'Month', 'Monthly Anomaly', 'Monthly Unc', 'Annual Anomaly', 'Annual Unc', 'Five-year Anomaly', 'Five-year Unc', 'Ten-year Anomaly', 'Ten-year Unc', 'Twenty-year Anomaly', 'Twenty-year Unc']\n"
     ]
    }
   ],
   "source": [
    "print(organized_headers)"
   ]
  },
  {
   "cell_type": "code",
   "execution_count": 85,
   "id": "56c9bc21-c54a-4353-b986-1b2fdbb594c4",
   "metadata": {},
   "outputs": [
    {
     "name": "stdout",
     "output_type": "stream",
     "text": [
      "Index: 0, Header: Year\n",
      "Index: 1, Header: Month\n",
      "Index: 2, Header: Monthly Anomaly\n",
      "Index: 3, Header: Monthly Unc\n",
      "Index: 4, Header: Annual Anomaly\n",
      "Index: 5, Header: Annual Unc\n",
      "Index: 6, Header: Five-year Anomaly\n",
      "Index: 7, Header: Five-year Unc\n",
      "Index: 8, Header: Ten-year Anomaly\n",
      "Index: 9, Header: Ten-year Unc\n",
      "Index: 10, Header: Twenty-year Anomaly\n",
      "Index: 11, Header: Twenty-year Unc\n"
     ]
    }
   ],
   "source": [
    "# Print index and header\n",
    "for index, organized_headers in enumerate(organized_headers):\n",
    "    print(f\"Index: {index}, Header: {organized_headers}\")\n"
   ]
  },
  {
   "cell_type": "code",
   "execution_count": 97,
   "id": "d40baac2-b2ad-4904-9f6e-8bc73d507a34",
   "metadata": {},
   "outputs": [
    {
     "name": "stdout",
     "output_type": "stream",
     "text": [
      "Headers set successfully!\n",
      "   Year  Month  Monthly Anomaly  Monthly Unc  Annual Anomaly  Annual Unc  \\\n",
      "0  1850      1           -0.756        0.423             NaN         NaN   \n",
      "1  1850      2           -0.213        0.514             NaN         NaN   \n",
      "2  1850      3           -0.354        0.354             NaN         NaN   \n",
      "3  1850      4           -0.584        0.293             NaN         NaN   \n",
      "4  1850      5           -0.626        0.239             NaN         NaN   \n",
      "\n",
      "   Five-year Anomaly  Five-year Unc  Ten-year Anomaly  Ten-year Unc  \\\n",
      "0                NaN            NaN               NaN           NaN   \n",
      "1                NaN            NaN               NaN           NaN   \n",
      "2                NaN            NaN               NaN           NaN   \n",
      "3                NaN            NaN               NaN           NaN   \n",
      "4                NaN            NaN               NaN           NaN   \n",
      "\n",
      "   Twenty-year Anomaly  Twenty-year Unc  \n",
      "0                  NaN              NaN  \n",
      "1                  NaN              NaN  \n",
      "2                  NaN              NaN  \n",
      "3                  NaN              NaN  \n",
      "4                  NaN              NaN  \n"
     ]
    }
   ],
   "source": [
    "# Define organized_headers as a list with each header explicitly listed\n",
    "organized_headers = [\n",
    "    'Year', 'Month', 'Monthly Anomaly', 'Monthly Unc', \n",
    "    'Annual Anomaly', 'Annual Unc', 'Five-year Anomaly', 'Five-year Unc', \n",
    "    'Ten-year Anomaly', 'Ten-year Unc', 'Twenty-year Anomaly', 'Twenty-year Unc'\n",
    "]\n",
    "\n",
    "# set df.columns if lengths match\n",
    "if len(organized_headers) == len(df.columns):\n",
    "    df.columns = organized_headers\n",
    "    print(\"Headers set successfully!\")\n",
    "    print(df.head())\n",
    "else:\n",
    "    print(\"The number of headers still does not match the number of columns in the DataFrame.\")\n"
   ]
  },
  {
   "cell_type": "code",
   "execution_count": 99,
   "id": "f06f5d87-3ab2-4cdb-8c37-977586f579b9",
   "metadata": {},
   "outputs": [
    {
     "data": {
      "text/html": [
       "<div>\n",
       "<style scoped>\n",
       "    .dataframe tbody tr th:only-of-type {\n",
       "        vertical-align: middle;\n",
       "    }\n",
       "\n",
       "    .dataframe tbody tr th {\n",
       "        vertical-align: top;\n",
       "    }\n",
       "\n",
       "    .dataframe thead th {\n",
       "        text-align: right;\n",
       "    }\n",
       "</style>\n",
       "<table border=\"1\" class=\"dataframe\">\n",
       "  <thead>\n",
       "    <tr style=\"text-align: right;\">\n",
       "      <th></th>\n",
       "      <th>Year</th>\n",
       "      <th>Month</th>\n",
       "      <th>Monthly Anomaly</th>\n",
       "      <th>Monthly Unc</th>\n",
       "      <th>Annual Anomaly</th>\n",
       "      <th>Annual Unc</th>\n",
       "      <th>Five-year Anomaly</th>\n",
       "      <th>Five-year Unc</th>\n",
       "      <th>Ten-year Anomaly</th>\n",
       "      <th>Ten-year Unc</th>\n",
       "      <th>Twenty-year Anomaly</th>\n",
       "      <th>Twenty-year Unc</th>\n",
       "    </tr>\n",
       "  </thead>\n",
       "  <tbody>\n",
       "    <tr>\n",
       "      <th>0</th>\n",
       "      <td>1850</td>\n",
       "      <td>1</td>\n",
       "      <td>-0.756</td>\n",
       "      <td>0.423</td>\n",
       "      <td>NaN</td>\n",
       "      <td>NaN</td>\n",
       "      <td>NaN</td>\n",
       "      <td>NaN</td>\n",
       "      <td>NaN</td>\n",
       "      <td>NaN</td>\n",
       "      <td>NaN</td>\n",
       "      <td>NaN</td>\n",
       "    </tr>\n",
       "    <tr>\n",
       "      <th>1</th>\n",
       "      <td>1850</td>\n",
       "      <td>2</td>\n",
       "      <td>-0.213</td>\n",
       "      <td>0.514</td>\n",
       "      <td>NaN</td>\n",
       "      <td>NaN</td>\n",
       "      <td>NaN</td>\n",
       "      <td>NaN</td>\n",
       "      <td>NaN</td>\n",
       "      <td>NaN</td>\n",
       "      <td>NaN</td>\n",
       "      <td>NaN</td>\n",
       "    </tr>\n",
       "    <tr>\n",
       "      <th>2</th>\n",
       "      <td>1850</td>\n",
       "      <td>3</td>\n",
       "      <td>-0.354</td>\n",
       "      <td>0.354</td>\n",
       "      <td>NaN</td>\n",
       "      <td>NaN</td>\n",
       "      <td>NaN</td>\n",
       "      <td>NaN</td>\n",
       "      <td>NaN</td>\n",
       "      <td>NaN</td>\n",
       "      <td>NaN</td>\n",
       "      <td>NaN</td>\n",
       "    </tr>\n",
       "    <tr>\n",
       "      <th>3</th>\n",
       "      <td>1850</td>\n",
       "      <td>4</td>\n",
       "      <td>-0.584</td>\n",
       "      <td>0.293</td>\n",
       "      <td>NaN</td>\n",
       "      <td>NaN</td>\n",
       "      <td>NaN</td>\n",
       "      <td>NaN</td>\n",
       "      <td>NaN</td>\n",
       "      <td>NaN</td>\n",
       "      <td>NaN</td>\n",
       "      <td>NaN</td>\n",
       "    </tr>\n",
       "    <tr>\n",
       "      <th>4</th>\n",
       "      <td>1850</td>\n",
       "      <td>5</td>\n",
       "      <td>-0.626</td>\n",
       "      <td>0.239</td>\n",
       "      <td>NaN</td>\n",
       "      <td>NaN</td>\n",
       "      <td>NaN</td>\n",
       "      <td>NaN</td>\n",
       "      <td>NaN</td>\n",
       "      <td>NaN</td>\n",
       "      <td>NaN</td>\n",
       "      <td>NaN</td>\n",
       "    </tr>\n",
       "  </tbody>\n",
       "</table>\n",
       "</div>"
      ],
      "text/plain": [
       "   Year  Month  Monthly Anomaly  Monthly Unc  Annual Anomaly  Annual Unc  \\\n",
       "0  1850      1           -0.756        0.423             NaN         NaN   \n",
       "1  1850      2           -0.213        0.514             NaN         NaN   \n",
       "2  1850      3           -0.354        0.354             NaN         NaN   \n",
       "3  1850      4           -0.584        0.293             NaN         NaN   \n",
       "4  1850      5           -0.626        0.239             NaN         NaN   \n",
       "\n",
       "   Five-year Anomaly  Five-year Unc  Ten-year Anomaly  Ten-year Unc  \\\n",
       "0                NaN            NaN               NaN           NaN   \n",
       "1                NaN            NaN               NaN           NaN   \n",
       "2                NaN            NaN               NaN           NaN   \n",
       "3                NaN            NaN               NaN           NaN   \n",
       "4                NaN            NaN               NaN           NaN   \n",
       "\n",
       "   Twenty-year Anomaly  Twenty-year Unc  \n",
       "0                  NaN              NaN  \n",
       "1                  NaN              NaN  \n",
       "2                  NaN              NaN  \n",
       "3                  NaN              NaN  \n",
       "4                  NaN              NaN  "
      ]
     },
     "execution_count": 99,
     "metadata": {},
     "output_type": "execute_result"
    }
   ],
   "source": [
    "df.head()"
   ]
  },
  {
   "cell_type": "code",
   "execution_count": 101,
   "id": "92c5a292-4f8e-42c9-9ba2-e048a5dcb1b5",
   "metadata": {},
   "outputs": [
    {
     "name": "stdout",
     "output_type": "stream",
     "text": [
      "The row index for the year 1980 is: 1560\n",
      "Year                   1980.000\n",
      "Month                     1.000\n",
      "Monthly Anomaly           0.383\n",
      "Monthly Unc               0.034\n",
      "Annual Anomaly            0.338\n",
      "Annual Unc                0.025\n",
      "Five-year Anomaly         0.222\n",
      "Five-year Unc             0.022\n",
      "Ten-year Anomaly          0.177\n",
      "Ten-year Unc              0.021\n",
      "Twenty-year Anomaly       0.158\n",
      "Twenty-year Unc           0.018\n",
      "Name: 1560, dtype: float64\n"
     ]
    }
   ],
   "source": [
    "# Find the row index for the year 1980\n",
    "row_index_1980 = df[df['Year'] == 1980].index[0]\n",
    "\n",
    "# Display the row index\n",
    "print(f\"The row index for the year 1980 is: {row_index_1980}\")\n",
    "\n",
    "# Access the row containing the year 1980\n",
    "row_data_1980 = df.loc[row_index_1980]\n",
    "\n",
    "# Display the row data\n",
    "print(row_data_1980)\n"
   ]
  },
  {
   "cell_type": "code",
   "execution_count": 103,
   "id": "42e473f0-965f-4f05-aece-715fd10126fe",
   "metadata": {},
   "outputs": [
    {
     "data": {
      "text/html": [
       "<div>\n",
       "<style scoped>\n",
       "    .dataframe tbody tr th:only-of-type {\n",
       "        vertical-align: middle;\n",
       "    }\n",
       "\n",
       "    .dataframe tbody tr th {\n",
       "        vertical-align: top;\n",
       "    }\n",
       "\n",
       "    .dataframe thead th {\n",
       "        text-align: right;\n",
       "    }\n",
       "</style>\n",
       "<table border=\"1\" class=\"dataframe\">\n",
       "  <thead>\n",
       "    <tr style=\"text-align: right;\">\n",
       "      <th></th>\n",
       "      <th>Year</th>\n",
       "      <th>Month</th>\n",
       "      <th>Monthly Anomaly</th>\n",
       "      <th>Monthly Unc</th>\n",
       "      <th>Annual Anomaly</th>\n",
       "      <th>Annual Unc</th>\n",
       "      <th>Five-year Anomaly</th>\n",
       "      <th>Five-year Unc</th>\n",
       "      <th>Ten-year Anomaly</th>\n",
       "      <th>Ten-year Unc</th>\n",
       "      <th>Twenty-year Anomaly</th>\n",
       "      <th>Twenty-year Unc</th>\n",
       "    </tr>\n",
       "  </thead>\n",
       "  <tbody>\n",
       "    <tr>\n",
       "      <th>0</th>\n",
       "      <td>1980</td>\n",
       "      <td>1</td>\n",
       "      <td>0.383</td>\n",
       "      <td>0.034</td>\n",
       "      <td>0.338</td>\n",
       "      <td>0.025</td>\n",
       "      <td>0.222</td>\n",
       "      <td>0.022</td>\n",
       "      <td>0.177</td>\n",
       "      <td>0.021</td>\n",
       "      <td>0.158</td>\n",
       "      <td>0.018</td>\n",
       "    </tr>\n",
       "    <tr>\n",
       "      <th>1</th>\n",
       "      <td>1980</td>\n",
       "      <td>2</td>\n",
       "      <td>0.470</td>\n",
       "      <td>0.036</td>\n",
       "      <td>0.346</td>\n",
       "      <td>0.027</td>\n",
       "      <td>0.218</td>\n",
       "      <td>0.021</td>\n",
       "      <td>0.176</td>\n",
       "      <td>0.021</td>\n",
       "      <td>0.159</td>\n",
       "      <td>0.018</td>\n",
       "    </tr>\n",
       "    <tr>\n",
       "      <th>2</th>\n",
       "      <td>1980</td>\n",
       "      <td>3</td>\n",
       "      <td>0.372</td>\n",
       "      <td>0.053</td>\n",
       "      <td>0.340</td>\n",
       "      <td>0.029</td>\n",
       "      <td>0.219</td>\n",
       "      <td>0.021</td>\n",
       "      <td>0.177</td>\n",
       "      <td>0.021</td>\n",
       "      <td>0.162</td>\n",
       "      <td>0.018</td>\n",
       "    </tr>\n",
       "    <tr>\n",
       "      <th>3</th>\n",
       "      <td>1980</td>\n",
       "      <td>4</td>\n",
       "      <td>0.425</td>\n",
       "      <td>0.049</td>\n",
       "      <td>0.333</td>\n",
       "      <td>0.030</td>\n",
       "      <td>0.219</td>\n",
       "      <td>0.021</td>\n",
       "      <td>0.177</td>\n",
       "      <td>0.021</td>\n",
       "      <td>0.164</td>\n",
       "      <td>0.018</td>\n",
       "    </tr>\n",
       "    <tr>\n",
       "      <th>4</th>\n",
       "      <td>1980</td>\n",
       "      <td>5</td>\n",
       "      <td>0.392</td>\n",
       "      <td>0.036</td>\n",
       "      <td>0.332</td>\n",
       "      <td>0.030</td>\n",
       "      <td>0.218</td>\n",
       "      <td>0.021</td>\n",
       "      <td>0.177</td>\n",
       "      <td>0.021</td>\n",
       "      <td>0.166</td>\n",
       "      <td>0.018</td>\n",
       "    </tr>\n",
       "  </tbody>\n",
       "</table>\n",
       "</div>"
      ],
      "text/plain": [
       "   Year  Month  Monthly Anomaly  Monthly Unc  Annual Anomaly  Annual Unc  \\\n",
       "0  1980      1            0.383        0.034           0.338       0.025   \n",
       "1  1980      2            0.470        0.036           0.346       0.027   \n",
       "2  1980      3            0.372        0.053           0.340       0.029   \n",
       "3  1980      4            0.425        0.049           0.333       0.030   \n",
       "4  1980      5            0.392        0.036           0.332       0.030   \n",
       "\n",
       "   Five-year Anomaly  Five-year Unc  Ten-year Anomaly  Ten-year Unc  \\\n",
       "0              0.222          0.022             0.177         0.021   \n",
       "1              0.218          0.021             0.176         0.021   \n",
       "2              0.219          0.021             0.177         0.021   \n",
       "3              0.219          0.021             0.177         0.021   \n",
       "4              0.218          0.021             0.177         0.021   \n",
       "\n",
       "   Twenty-year Anomaly  Twenty-year Unc  \n",
       "0                0.158            0.018  \n",
       "1                0.159            0.018  \n",
       "2                0.162            0.018  \n",
       "3                0.164            0.018  \n",
       "4                0.166            0.018  "
      ]
     },
     "execution_count": 103,
     "metadata": {},
     "output_type": "execute_result"
    }
   ],
   "source": [
    "# df1 for years starting from 1980\n",
    "df1 = df[df['Year'] >= 1980].reset_index(drop=True)\n",
    "df1.head()"
   ]
  },
  {
   "cell_type": "code",
   "execution_count": 105,
   "id": "481144bc-8178-42cf-87a1-0f7b2a48f2ac",
   "metadata": {},
   "outputs": [
    {
     "data": {
      "image/png": "[encoded data removed]",
      "text/plain": [
       "<Figure size 1200x600 with 1 Axes>"
      ]
     },
     "metadata": {},
     "output_type": "display_data"
    }
   ],
   "source": [
    "import matplotlib.pyplot as plt\n",
    "# Group by year to calculate annual anomalies\n",
    "annual_anomalies = df1.groupby('Year')['Annual Anomaly'].mean()\n",
    "\n",
    "# Plotting\n",
    "plt.figure(figsize=(12, 6))\n",
    "plt.plot(annual_anomalies.index, annual_anomalies.values, marker='o', linestyle='-', color='b', label='Annual Anomaly')\n",
    "plt.title('Annual Temperature Anomalies (1980 - Most Recent Year)')\n",
    "plt.xlabel('Year')\n",
    "plt.ylabel('Temperature Anomaly (°C)')\n",
    "plt.xticks(rotation=45)\n",
    "plt.grid()\n",
    "plt.legend()\n",
    "plt.tight_layout()\n",
    "plt.show()\n"
   ]
  }
 ],
 "metadata": {
  "kernelspec": {
   "display_name": "Python 3 (ipykernel)",
   "language": "python",
   "name": "python3"
  },
  "language_info": {
   "codemirror_mode": {
    "name": "ipython",
    "version": 3
   },
   "file_extension": ".py",
   "mimetype": "text/x-python",
   "name": "python",
   "nbconvert_exporter": "python",
   "pygments_lexer": "ipython3",
   "version": "3.12.4"
  }
 },
 "nbformat": 4,
 "nbformat_minor": 5
}
